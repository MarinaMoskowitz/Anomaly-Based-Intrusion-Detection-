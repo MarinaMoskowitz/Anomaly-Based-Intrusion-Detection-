{
 "cells": [
  {
   "cell_type": "code",
   "execution_count": 1,
   "metadata": {},
   "outputs": [],
   "source": [
    "import pandas as pd\n",
    "import numpy as np\n",
    "import seaborn as sns\n",
    "import matplotlib.pyplot as plt\n",
    "\n",
    "import glob"
   ]
  },
  {
   "cell_type": "code",
   "execution_count": 2,
   "metadata": {},
   "outputs": [
    {
     "name": "stderr",
     "output_type": "stream",
     "text": [
      "/Library/Frameworks/Python.framework/Versions/3.6/lib/python3.6/site-packages/IPython/core/interactiveshell.py:3020: DtypeWarning: Columns (14,15) have mixed types. Specify dtype option on import or set low_memory=False.\n",
      "  interactivity=interactivity, compiler=compiler, result=result)\n"
     ]
    },
    {
     "name": "stdout",
     "output_type": "stream",
     "text": [
      "len of rows in csv 288602\n",
      "len of rows in df 288602\n",
      "len of list to append all the data 1\n",
      "/Users/marinamoskowitz/Documents/Fall 2019/Research/MachineLearningCVE/Thursday-WorkingHours-Afternoon-Infilteration.pcap_ISCX.csv\n",
      "['BENIGN' 'Infiltration']\n"
     ]
    },
    {
     "name": "stderr",
     "output_type": "stream",
     "text": [
      "/Library/Frameworks/Python.framework/Versions/3.6/lib/python3.6/site-packages/IPython/core/interactiveshell.py:3020: DtypeWarning: Columns (14) have mixed types. Specify dtype option on import or set low_memory=False.\n",
      "  interactivity=interactivity, compiler=compiler, result=result)\n"
     ]
    },
    {
     "name": "stdout",
     "output_type": "stream",
     "text": [
      "len of rows in csv 529918\n",
      "len of rows in df 818520\n",
      "len of list to append all the data 2\n",
      "/Users/marinamoskowitz/Documents/Fall 2019/Research/MachineLearningCVE/Monday-WorkingHours.pcap_ISCX.csv\n",
      "['BENIGN']\n",
      "len of rows in csv 191033\n",
      "len of rows in df 1009553\n",
      "len of list to append all the data 3\n",
      "/Users/marinamoskowitz/Documents/Fall 2019/Research/MachineLearningCVE/Friday-WorkingHours-Morning.pcap_ISCX.csv\n",
      "['BENIGN' 'Bot']\n",
      "len of rows in csv 286467\n",
      "len of rows in df 1296020\n",
      "len of list to append all the data 4\n",
      "/Users/marinamoskowitz/Documents/Fall 2019/Research/MachineLearningCVE/Friday-WorkingHours-Afternoon-PortScan.pcap_ISCX.csv\n",
      "['BENIGN' 'PortScan']\n",
      "len of rows in csv 225745\n",
      "len of rows in df 1521765\n",
      "len of list to append all the data 5\n",
      "/Users/marinamoskowitz/Documents/Fall 2019/Research/MachineLearningCVE/Friday-WorkingHours-Afternoon-DDos.pcap_ISCX.csv\n",
      "['BENIGN' 'DDoS']\n",
      "len of rows in csv 445909\n",
      "len of rows in df 1967674\n",
      "len of list to append all the data 6\n",
      "/Users/marinamoskowitz/Documents/Fall 2019/Research/MachineLearningCVE/Tuesday-WorkingHours.pcap_ISCX.csv\n",
      "['BENIGN' 'FTP-Patator' 'SSH-Patator']\n",
      "len of rows in csv 692703\n",
      "len of rows in df 2660377\n",
      "len of list to append all the data 7\n",
      "/Users/marinamoskowitz/Documents/Fall 2019/Research/MachineLearningCVE/Wednesday-workingHours.pcap_ISCX.csv\n",
      "['BENIGN' 'DoS slowloris' 'DoS Slowhttptest' 'DoS Hulk' 'DoS GoldenEye'\n",
      " 'Heartbleed']\n",
      "len of rows in csv 170366\n",
      "len of rows in df 2830743\n",
      "len of list to append all the data 8\n",
      "/Users/marinamoskowitz/Documents/Fall 2019/Research/MachineLearningCVE/Thursday-WorkingHours-Morning-WebAttacks.pcap_ISCX.csv\n",
      "['BENIGN' 'Web Attack � Brute Force' 'Web Attack � XSS'\n",
      " 'Web Attack � Sql Injection']\n"
     ]
    }
   ],
   "source": [
    "MachineLearningCVE = \"/Users/marinamoskowitz/Documents/Fall 2019/Research/MachineLearningCVE\"\n",
    "all_files = glob.glob(MachineLearningCVE + \"/*.csv\")\n",
    "\n",
    "file_list = []\n",
    "count = 0\n",
    "\n",
    "for filename in all_files:\n",
    "    df = pd.read_csv(filename)\n",
    "    print('len of rows in csv', len(df))\n",
    "    \n",
    "    # making sure the current csv is appending to the main df\n",
    "    count = count + len(df)\n",
    "    print('len of rows in df', count)\n",
    "    \n",
    "    # removing white spaces before and after the name of each feature\n",
    "    df.columns = df.columns.str.lstrip()\n",
    "    df.columns = df.columns.str.rstrip()\n",
    "    \n",
    "    file_list.append(df)\n",
    "    print('len of list to append all the data', len(file_list))\n",
    "    \n",
    "    print(filename)\n",
    "    print(df.iloc[:,-1].unique())\n",
    "\n",
    "data = pd.concat(file_list, axis=0, ignore_index=True)"
   ]
  },
  {
   "cell_type": "code",
   "execution_count": 3,
   "metadata": {},
   "outputs": [
    {
     "data": {
      "text/plain": [
       "(2830743, 79)"
      ]
     },
     "execution_count": 3,
     "metadata": {},
     "output_type": "execute_result"
    }
   ],
   "source": [
    "data.shape"
   ]
  },
  {
   "cell_type": "code",
   "execution_count": 4,
   "metadata": {},
   "outputs": [
    {
     "name": "stdout",
     "output_type": "stream",
     "text": [
      "['BENIGN' 'Infiltration' 'Bot' 'PortScan' 'DDoS' 'FTP-Patator'\n",
      " 'SSH-Patator' 'DoS slowloris' 'DoS Slowhttptest' 'DoS Hulk'\n",
      " 'DoS GoldenEye' 'Heartbleed' 'Web Attack � Brute Force'\n",
      " 'Web Attack � XSS' 'Web Attack � Sql Injection']\n"
     ]
    }
   ],
   "source": [
    "print(data['Label'].unique())"
   ]
  },
  {
   "cell_type": "code",
   "execution_count": 5,
   "metadata": {},
   "outputs": [
    {
     "name": "stdout",
     "output_type": "stream",
     "text": [
      "15\n"
     ]
    }
   ],
   "source": [
    "print(data['Label'].nunique())"
   ]
  },
  {
   "cell_type": "code",
   "execution_count": 6,
   "metadata": {},
   "outputs": [
    {
     "name": "stdout",
     "output_type": "stream",
     "text": [
      "['BENIGN' 'Infiltration' 'Bot' 'PortScan' 'DDoS' 'FTP-Patator'\n",
      " 'SSH-Patator' 'DoS slowloris' 'DoS Slowhttptest' 'DoS Hulk'\n",
      " 'DoS GoldenEye' 'Heartbleed' 'Web Attack � Brute Force'\n",
      " 'Web Attack � XSS' 'Web Attack � Sql Injection']\n",
      "15\n",
      "8\n",
      "[0 4 5 6 7 1 2 3]\n"
     ]
    }
   ],
   "source": [
    "df_copy = data.copy()\n",
    "print(df_copy['Label'].unique())\n",
    "print(df_copy['Label'].nunique())\n",
    "\n",
    "# combining minorty classes to help balance the classes \n",
    "size_mapping = {'BENIGN':0, 'FTP-Patator':1,'SSH-Patator':1,'DoS Hulk':2, 'DoS GoldenEye':2,'DoS slowloris':2,'DoS Slowhttptest':2,'Heartbleed':2,'Web Attack � Brute Force':3,'Web Attack � XSS':3,'Web Attack � Sql Injection':3,'Infiltration':4,'Bot':5,'PortScan':6,'DDoS':7}\n",
    "df_copy['Label'] = df_copy['Label'].map(size_mapping)\n",
    "#print(df_copy1['Label'])\n",
    "\n",
    "print(df_copy['Label'].nunique())\n",
    "print(df_copy['Label'].unique())"
   ]
  },
  {
   "cell_type": "code",
   "execution_count": 7,
   "metadata": {},
   "outputs": [
    {
     "name": "stdout",
     "output_type": "stream",
     "text": [
      "<class 'pandas.core.frame.DataFrame'>\n",
      "RangeIndex: 2830743 entries, 0 to 2830742\n",
      "Data columns (total 79 columns):\n",
      "Destination Port               int64\n",
      "Flow Duration                  int64\n",
      "Total Fwd Packets              int64\n",
      "Total Backward Packets         int64\n",
      "Total Length of Fwd Packets    int64\n",
      "Total Length of Bwd Packets    int64\n",
      "Fwd Packet Length Max          int64\n",
      "Fwd Packet Length Min          int64\n",
      "Fwd Packet Length Mean         float64\n",
      "Fwd Packet Length Std          float64\n",
      "Bwd Packet Length Max          int64\n",
      "Bwd Packet Length Min          int64\n",
      "Bwd Packet Length Mean         float64\n",
      "Bwd Packet Length Std          float64\n",
      "Flow Bytes/s                   object\n",
      "Flow Packets/s                 object\n",
      "Flow IAT Mean                  float64\n",
      "Flow IAT Std                   float64\n",
      "Flow IAT Max                   int64\n",
      "Flow IAT Min                   int64\n",
      "Fwd IAT Total                  int64\n",
      "Fwd IAT Mean                   float64\n",
      "Fwd IAT Std                    float64\n",
      "Fwd IAT Max                    int64\n",
      "Fwd IAT Min                    int64\n",
      "Bwd IAT Total                  int64\n",
      "Bwd IAT Mean                   float64\n",
      "Bwd IAT Std                    float64\n",
      "Bwd IAT Max                    int64\n",
      "Bwd IAT Min                    int64\n",
      "Fwd PSH Flags                  int64\n",
      "Bwd PSH Flags                  int64\n",
      "Fwd URG Flags                  int64\n",
      "Bwd URG Flags                  int64\n",
      "Fwd Header Length              int64\n",
      "Bwd Header Length              int64\n",
      "Fwd Packets/s                  float64\n",
      "Bwd Packets/s                  float64\n",
      "Min Packet Length              int64\n",
      "Max Packet Length              int64\n",
      "Packet Length Mean             float64\n",
      "Packet Length Std              float64\n",
      "Packet Length Variance         float64\n",
      "FIN Flag Count                 int64\n",
      "SYN Flag Count                 int64\n",
      "RST Flag Count                 int64\n",
      "PSH Flag Count                 int64\n",
      "ACK Flag Count                 int64\n",
      "URG Flag Count                 int64\n",
      "CWE Flag Count                 int64\n",
      "ECE Flag Count                 int64\n",
      "Down/Up Ratio                  int64\n",
      "Average Packet Size            float64\n",
      "Avg Fwd Segment Size           float64\n",
      "Avg Bwd Segment Size           float64\n",
      "Fwd Header Length.1            int64\n",
      "Fwd Avg Bytes/Bulk             int64\n",
      "Fwd Avg Packets/Bulk           int64\n",
      "Fwd Avg Bulk Rate              int64\n",
      "Bwd Avg Bytes/Bulk             int64\n",
      "Bwd Avg Packets/Bulk           int64\n",
      "Bwd Avg Bulk Rate              int64\n",
      "Subflow Fwd Packets            int64\n",
      "Subflow Fwd Bytes              int64\n",
      "Subflow Bwd Packets            int64\n",
      "Subflow Bwd Bytes              int64\n",
      "Init_Win_bytes_forward         int64\n",
      "Init_Win_bytes_backward        int64\n",
      "act_data_pkt_fwd               int64\n",
      "min_seg_size_forward           int64\n",
      "Active Mean                    float64\n",
      "Active Std                     float64\n",
      "Active Max                     int64\n",
      "Active Min                     int64\n",
      "Idle Mean                      float64\n",
      "Idle Std                       float64\n",
      "Idle Max                       int64\n",
      "Idle Min                       int64\n",
      "Label                          int64\n",
      "dtypes: float64(22), int64(55), object(2)\n",
      "memory usage: 1.7+ GB\n"
     ]
    }
   ],
   "source": [
    "df_copy.head()\n",
    "df_copy.info()"
   ]
  },
  {
   "cell_type": "code",
   "execution_count": 8,
   "metadata": {},
   "outputs": [],
   "source": [
    "# Converting Flow Bytes/s and Flow Packet/s to type float64 instead of\n",
    "# object\n",
    "df_copy['Flow Bytes/s']=df_copy['Flow Bytes/s'].astype('float64')\n",
    "df_copy['Flow Packets/s']=df_copy['Flow Packets/s'].astype('float64')"
   ]
  },
  {
   "cell_type": "markdown",
   "metadata": {},
   "source": [
    "# Exploring Data"
   ]
  },
  {
   "cell_type": "code",
   "execution_count": 9,
   "metadata": {},
   "outputs": [],
   "source": [
    "# dictionary of features to be dropped \n",
    "remove_features = []"
   ]
  },
  {
   "cell_type": "markdown",
   "metadata": {},
   "source": [
    "### Missing Values & Imputing "
   ]
  },
  {
   "cell_type": "code",
   "execution_count": 10,
   "metadata": {},
   "outputs": [
    {
     "data": {
      "text/html": [
       "<div>\n",
       "<style scoped>\n",
       "    .dataframe tbody tr th:only-of-type {\n",
       "        vertical-align: middle;\n",
       "    }\n",
       "\n",
       "    .dataframe tbody tr th {\n",
       "        vertical-align: top;\n",
       "    }\n",
       "\n",
       "    .dataframe thead th {\n",
       "        text-align: right;\n",
       "    }\n",
       "</style>\n",
       "<table border=\"1\" class=\"dataframe\">\n",
       "  <thead>\n",
       "    <tr style=\"text-align: right;\">\n",
       "      <th></th>\n",
       "      <th>Total</th>\n",
       "      <th>Percent</th>\n",
       "    </tr>\n",
       "  </thead>\n",
       "  <tbody>\n",
       "    <tr>\n",
       "      <th>Flow Bytes/s</th>\n",
       "      <td>1358</td>\n",
       "      <td>0.047973</td>\n",
       "    </tr>\n",
       "    <tr>\n",
       "      <th>Label</th>\n",
       "      <td>0</td>\n",
       "      <td>0.000000</td>\n",
       "    </tr>\n",
       "    <tr>\n",
       "      <th>Flow IAT Min</th>\n",
       "      <td>0</td>\n",
       "      <td>0.000000</td>\n",
       "    </tr>\n",
       "    <tr>\n",
       "      <th>Fwd IAT Mean</th>\n",
       "      <td>0</td>\n",
       "      <td>0.000000</td>\n",
       "    </tr>\n",
       "    <tr>\n",
       "      <th>Fwd IAT Std</th>\n",
       "      <td>0</td>\n",
       "      <td>0.000000</td>\n",
       "    </tr>\n",
       "  </tbody>\n",
       "</table>\n",
       "</div>"
      ],
      "text/plain": [
       "              Total   Percent\n",
       "Flow Bytes/s   1358  0.047973\n",
       "Label             0  0.000000\n",
       "Flow IAT Min      0  0.000000\n",
       "Fwd IAT Mean      0  0.000000\n",
       "Fwd IAT Std       0  0.000000"
      ]
     },
     "execution_count": 10,
     "metadata": {},
     "output_type": "execute_result"
    }
   ],
   "source": [
    "# determing if there is any features with missing values that would need \n",
    "# to be imputed or droped\n",
    "\n",
    "features = df_copy.isnull().sum().sort_values(ascending = False)\n",
    "percent = (df_copy.isnull().sum()/df_copy.isnull().count()*100).sort_values(ascending = False)\n",
    "missing_df_data = pd.concat([features, percent], axis=1, keys=['Total', 'Percent'])\n",
    "missing_df_data.head(5)\n",
    "\n",
    "# Flow Bytes/s needs to be imputed "
   ]
  },
  {
   "cell_type": "code",
   "execution_count": 11,
   "metadata": {},
   "outputs": [],
   "source": [
    "# converting inf to nan\n",
    "pd.set_option('mode.use_inf_as_na', True) \n",
    "\n",
    "# Imputing null Flow Bytes/s with the mean \n",
    "df_copy['Flow Bytes/s'].fillna(df_copy['Flow Bytes/s'].mean(),inplace=True)\n",
    "df_copy['Flow Packets/s'].fillna(df_copy['Flow Packets/s'].mean(),inplace=True)"
   ]
  },
  {
   "cell_type": "markdown",
   "metadata": {},
   "source": [
    "### Skewed Columns"
   ]
  },
  {
   "cell_type": "code",
   "execution_count": 12,
   "metadata": {},
   "outputs": [
    {
     "data": {
      "text/html": [
       "<div>\n",
       "<style scoped>\n",
       "    .dataframe tbody tr th:only-of-type {\n",
       "        vertical-align: middle;\n",
       "    }\n",
       "\n",
       "    .dataframe tbody tr th {\n",
       "        vertical-align: top;\n",
       "    }\n",
       "\n",
       "    .dataframe thead th {\n",
       "        text-align: right;\n",
       "    }\n",
       "</style>\n",
       "<table border=\"1\" class=\"dataframe\">\n",
       "  <thead>\n",
       "    <tr style=\"text-align: right;\">\n",
       "      <th></th>\n",
       "      <th>column</th>\n",
       "      <th>skewness</th>\n",
       "      <th>unique</th>\n",
       "    </tr>\n",
       "  </thead>\n",
       "  <tbody>\n",
       "    <tr>\n",
       "      <th>60</th>\n",
       "      <td>Bwd Avg Packets/Bulk</td>\n",
       "      <td>100.00</td>\n",
       "      <td>1</td>\n",
       "    </tr>\n",
       "    <tr>\n",
       "      <th>61</th>\n",
       "      <td>Bwd Avg Bulk Rate</td>\n",
       "      <td>100.00</td>\n",
       "      <td>1</td>\n",
       "    </tr>\n",
       "    <tr>\n",
       "      <th>56</th>\n",
       "      <td>Fwd Avg Bytes/Bulk</td>\n",
       "      <td>100.00</td>\n",
       "      <td>1</td>\n",
       "    </tr>\n",
       "    <tr>\n",
       "      <th>57</th>\n",
       "      <td>Fwd Avg Packets/Bulk</td>\n",
       "      <td>100.00</td>\n",
       "      <td>1</td>\n",
       "    </tr>\n",
       "    <tr>\n",
       "      <th>58</th>\n",
       "      <td>Fwd Avg Bulk Rate</td>\n",
       "      <td>100.00</td>\n",
       "      <td>1</td>\n",
       "    </tr>\n",
       "    <tr>\n",
       "      <th>33</th>\n",
       "      <td>Bwd URG Flags</td>\n",
       "      <td>100.00</td>\n",
       "      <td>1</td>\n",
       "    </tr>\n",
       "    <tr>\n",
       "      <th>31</th>\n",
       "      <td>Bwd PSH Flags</td>\n",
       "      <td>100.00</td>\n",
       "      <td>1</td>\n",
       "    </tr>\n",
       "    <tr>\n",
       "      <th>59</th>\n",
       "      <td>Bwd Avg Bytes/Bulk</td>\n",
       "      <td>100.00</td>\n",
       "      <td>1</td>\n",
       "    </tr>\n",
       "    <tr>\n",
       "      <th>49</th>\n",
       "      <td>CWE Flag Count</td>\n",
       "      <td>99.99</td>\n",
       "      <td>2</td>\n",
       "    </tr>\n",
       "    <tr>\n",
       "      <th>32</th>\n",
       "      <td>Fwd URG Flags</td>\n",
       "      <td>99.99</td>\n",
       "      <td>2</td>\n",
       "    </tr>\n",
       "    <tr>\n",
       "      <th>45</th>\n",
       "      <td>RST Flag Count</td>\n",
       "      <td>99.98</td>\n",
       "      <td>2</td>\n",
       "    </tr>\n",
       "    <tr>\n",
       "      <th>50</th>\n",
       "      <td>ECE Flag Count</td>\n",
       "      <td>99.98</td>\n",
       "      <td>2</td>\n",
       "    </tr>\n",
       "    <tr>\n",
       "      <th>43</th>\n",
       "      <td>FIN Flag Count</td>\n",
       "      <td>96.46</td>\n",
       "      <td>2</td>\n",
       "    </tr>\n",
       "    <tr>\n",
       "      <th>30</th>\n",
       "      <td>Fwd PSH Flags</td>\n",
       "      <td>95.36</td>\n",
       "      <td>2</td>\n",
       "    </tr>\n",
       "    <tr>\n",
       "      <th>44</th>\n",
       "      <td>SYN Flag Count</td>\n",
       "      <td>95.36</td>\n",
       "      <td>2</td>\n",
       "    </tr>\n",
       "    <tr>\n",
       "      <th>71</th>\n",
       "      <td>Active Std</td>\n",
       "      <td>92.74</td>\n",
       "      <td>202826</td>\n",
       "    </tr>\n",
       "    <tr>\n",
       "      <th>75</th>\n",
       "      <td>Idle Std</td>\n",
       "      <td>91.90</td>\n",
       "      <td>197616</td>\n",
       "    </tr>\n",
       "    <tr>\n",
       "      <th>48</th>\n",
       "      <td>URG Flag Count</td>\n",
       "      <td>90.52</td>\n",
       "      <td>2</td>\n",
       "    </tr>\n",
       "    <tr>\n",
       "      <th>78</th>\n",
       "      <td>Label</td>\n",
       "      <td>80.30</td>\n",
       "      <td>8</td>\n",
       "    </tr>\n",
       "    <tr>\n",
       "      <th>72</th>\n",
       "      <td>Active Max</td>\n",
       "      <td>80.26</td>\n",
       "      <td>299565</td>\n",
       "    </tr>\n",
       "    <tr>\n",
       "      <th>70</th>\n",
       "      <td>Active Mean</td>\n",
       "      <td>80.26</td>\n",
       "      <td>326325</td>\n",
       "    </tr>\n",
       "    <tr>\n",
       "      <th>73</th>\n",
       "      <td>Active Min</td>\n",
       "      <td>80.26</td>\n",
       "      <td>175670</td>\n",
       "    </tr>\n",
       "    <tr>\n",
       "      <th>74</th>\n",
       "      <td>Idle Mean</td>\n",
       "      <td>79.96</td>\n",
       "      <td>222016</td>\n",
       "    </tr>\n",
       "    <tr>\n",
       "      <th>77</th>\n",
       "      <td>Idle Min</td>\n",
       "      <td>79.96</td>\n",
       "      <td>223888</td>\n",
       "    </tr>\n",
       "    <tr>\n",
       "      <th>76</th>\n",
       "      <td>Idle Max</td>\n",
       "      <td>79.96</td>\n",
       "      <td>149737</td>\n",
       "    </tr>\n",
       "    <tr>\n",
       "      <th>13</th>\n",
       "      <td>Bwd Packet Length Std</td>\n",
       "      <td>71.59</td>\n",
       "      <td>248869</td>\n",
       "    </tr>\n",
       "    <tr>\n",
       "      <th>27</th>\n",
       "      <td>Bwd IAT Std</td>\n",
       "      <td>71.33</td>\n",
       "      <td>709042</td>\n",
       "    </tr>\n",
       "    <tr>\n",
       "      <th>46</th>\n",
       "      <td>PSH Flag Count</td>\n",
       "      <td>70.19</td>\n",
       "      <td>2</td>\n",
       "    </tr>\n",
       "    <tr>\n",
       "      <th>47</th>\n",
       "      <td>ACK Flag Count</td>\n",
       "      <td>68.42</td>\n",
       "      <td>2</td>\n",
       "    </tr>\n",
       "    <tr>\n",
       "      <th>9</th>\n",
       "      <td>Fwd Packet Length Std</td>\n",
       "      <td>65.38</td>\n",
       "      <td>253909</td>\n",
       "    </tr>\n",
       "    <tr>\n",
       "      <th>...</th>\n",
       "      <td>...</td>\n",
       "      <td>...</td>\n",
       "      <td>...</td>\n",
       "    </tr>\n",
       "    <tr>\n",
       "      <th>24</th>\n",
       "      <td>Fwd IAT Min</td>\n",
       "      <td>26.28</td>\n",
       "      <td>110631</td>\n",
       "    </tr>\n",
       "    <tr>\n",
       "      <th>42</th>\n",
       "      <td>Packet Length Variance</td>\n",
       "      <td>25.19</td>\n",
       "      <td>405565</td>\n",
       "    </tr>\n",
       "    <tr>\n",
       "      <th>41</th>\n",
       "      <td>Packet Length Std</td>\n",
       "      <td>25.19</td>\n",
       "      <td>412246</td>\n",
       "    </tr>\n",
       "    <tr>\n",
       "      <th>23</th>\n",
       "      <td>Fwd IAT Max</td>\n",
       "      <td>25.15</td>\n",
       "      <td>437316</td>\n",
       "    </tr>\n",
       "    <tr>\n",
       "      <th>21</th>\n",
       "      <td>Fwd IAT Mean</td>\n",
       "      <td>25.15</td>\n",
       "      <td>737737</td>\n",
       "    </tr>\n",
       "    <tr>\n",
       "      <th>20</th>\n",
       "      <td>Fwd IAT Total</td>\n",
       "      <td>25.15</td>\n",
       "      <td>493098</td>\n",
       "    </tr>\n",
       "    <tr>\n",
       "      <th>5</th>\n",
       "      <td>Total Length of Bwd Packets</td>\n",
       "      <td>25.00</td>\n",
       "      <td>64698</td>\n",
       "    </tr>\n",
       "    <tr>\n",
       "      <th>10</th>\n",
       "      <td>Bwd Packet Length Max</td>\n",
       "      <td>25.00</td>\n",
       "      <td>4838</td>\n",
       "    </tr>\n",
       "    <tr>\n",
       "      <th>12</th>\n",
       "      <td>Bwd Packet Length Mean</td>\n",
       "      <td>25.00</td>\n",
       "      <td>147614</td>\n",
       "    </tr>\n",
       "    <tr>\n",
       "      <th>54</th>\n",
       "      <td>Avg Bwd Segment Size</td>\n",
       "      <td>25.00</td>\n",
       "      <td>147611</td>\n",
       "    </tr>\n",
       "    <tr>\n",
       "      <th>65</th>\n",
       "      <td>Subflow Bwd Bytes</td>\n",
       "      <td>25.00</td>\n",
       "      <td>64738</td>\n",
       "    </tr>\n",
       "    <tr>\n",
       "      <th>19</th>\n",
       "      <td>Flow IAT Min</td>\n",
       "      <td>22.14</td>\n",
       "      <td>136316</td>\n",
       "    </tr>\n",
       "    <tr>\n",
       "      <th>55</th>\n",
       "      <td>Fwd Header Length.1</td>\n",
       "      <td>19.38</td>\n",
       "      <td>3771</td>\n",
       "    </tr>\n",
       "    <tr>\n",
       "      <th>34</th>\n",
       "      <td>Fwd Header Length</td>\n",
       "      <td>19.38</td>\n",
       "      <td>3771</td>\n",
       "    </tr>\n",
       "    <tr>\n",
       "      <th>39</th>\n",
       "      <td>Max Packet Length</td>\n",
       "      <td>18.20</td>\n",
       "      <td>5708</td>\n",
       "    </tr>\n",
       "    <tr>\n",
       "      <th>35</th>\n",
       "      <td>Bwd Header Length</td>\n",
       "      <td>16.14</td>\n",
       "      <td>3945</td>\n",
       "    </tr>\n",
       "    <tr>\n",
       "      <th>37</th>\n",
       "      <td>Bwd Packets/s</td>\n",
       "      <td>16.06</td>\n",
       "      <td>1107886</td>\n",
       "    </tr>\n",
       "    <tr>\n",
       "      <th>53</th>\n",
       "      <td>Avg Fwd Segment Size</td>\n",
       "      <td>15.87</td>\n",
       "      <td>99716</td>\n",
       "    </tr>\n",
       "    <tr>\n",
       "      <th>8</th>\n",
       "      <td>Fwd Packet Length Mean</td>\n",
       "      <td>15.87</td>\n",
       "      <td>99716</td>\n",
       "    </tr>\n",
       "    <tr>\n",
       "      <th>6</th>\n",
       "      <td>Fwd Packet Length Max</td>\n",
       "      <td>15.87</td>\n",
       "      <td>5279</td>\n",
       "    </tr>\n",
       "    <tr>\n",
       "      <th>4</th>\n",
       "      <td>Total Length of Fwd Packets</td>\n",
       "      <td>15.87</td>\n",
       "      <td>17928</td>\n",
       "    </tr>\n",
       "    <tr>\n",
       "      <th>63</th>\n",
       "      <td>Subflow Fwd Bytes</td>\n",
       "      <td>15.87</td>\n",
       "      <td>17928</td>\n",
       "    </tr>\n",
       "    <tr>\n",
       "      <th>52</th>\n",
       "      <td>Average Packet Size</td>\n",
       "      <td>12.62</td>\n",
       "      <td>212207</td>\n",
       "    </tr>\n",
       "    <tr>\n",
       "      <th>40</th>\n",
       "      <td>Packet Length Mean</td>\n",
       "      <td>12.62</td>\n",
       "      <td>215826</td>\n",
       "    </tr>\n",
       "    <tr>\n",
       "      <th>14</th>\n",
       "      <td>Flow Bytes/s</td>\n",
       "      <td>12.57</td>\n",
       "      <td>1601041</td>\n",
       "    </tr>\n",
       "    <tr>\n",
       "      <th>18</th>\n",
       "      <td>Flow IAT Max</td>\n",
       "      <td>3.41</td>\n",
       "      <td>580289</td>\n",
       "    </tr>\n",
       "    <tr>\n",
       "      <th>1</th>\n",
       "      <td>Flow Duration</td>\n",
       "      <td>3.19</td>\n",
       "      <td>1050899</td>\n",
       "    </tr>\n",
       "    <tr>\n",
       "      <th>16</th>\n",
       "      <td>Flow IAT Mean</td>\n",
       "      <td>3.16</td>\n",
       "      <td>1166311</td>\n",
       "    </tr>\n",
       "    <tr>\n",
       "      <th>15</th>\n",
       "      <td>Flow Packets/s</td>\n",
       "      <td>2.44</td>\n",
       "      <td>1243233</td>\n",
       "    </tr>\n",
       "    <tr>\n",
       "      <th>36</th>\n",
       "      <td>Fwd Packets/s</td>\n",
       "      <td>2.36</td>\n",
       "      <td>1220423</td>\n",
       "    </tr>\n",
       "  </tbody>\n",
       "</table>\n",
       "<p>79 rows × 3 columns</p>\n",
       "</div>"
      ],
      "text/plain": [
       "                         column  skewness   unique\n",
       "60         Bwd Avg Packets/Bulk    100.00        1\n",
       "61            Bwd Avg Bulk Rate    100.00        1\n",
       "56           Fwd Avg Bytes/Bulk    100.00        1\n",
       "57         Fwd Avg Packets/Bulk    100.00        1\n",
       "58            Fwd Avg Bulk Rate    100.00        1\n",
       "33                Bwd URG Flags    100.00        1\n",
       "31                Bwd PSH Flags    100.00        1\n",
       "59           Bwd Avg Bytes/Bulk    100.00        1\n",
       "49               CWE Flag Count     99.99        2\n",
       "32                Fwd URG Flags     99.99        2\n",
       "45               RST Flag Count     99.98        2\n",
       "50               ECE Flag Count     99.98        2\n",
       "43               FIN Flag Count     96.46        2\n",
       "30                Fwd PSH Flags     95.36        2\n",
       "44               SYN Flag Count     95.36        2\n",
       "71                   Active Std     92.74   202826\n",
       "75                     Idle Std     91.90   197616\n",
       "48               URG Flag Count     90.52        2\n",
       "78                        Label     80.30        8\n",
       "72                   Active Max     80.26   299565\n",
       "70                  Active Mean     80.26   326325\n",
       "73                   Active Min     80.26   175670\n",
       "74                    Idle Mean     79.96   222016\n",
       "77                     Idle Min     79.96   223888\n",
       "76                     Idle Max     79.96   149737\n",
       "13        Bwd Packet Length Std     71.59   248869\n",
       "27                  Bwd IAT Std     71.33   709042\n",
       "46               PSH Flag Count     70.19        2\n",
       "47               ACK Flag Count     68.42        2\n",
       "9         Fwd Packet Length Std     65.38   253909\n",
       "..                          ...       ...      ...\n",
       "24                  Fwd IAT Min     26.28   110631\n",
       "42       Packet Length Variance     25.19   405565\n",
       "41            Packet Length Std     25.19   412246\n",
       "23                  Fwd IAT Max     25.15   437316\n",
       "21                 Fwd IAT Mean     25.15   737737\n",
       "20                Fwd IAT Total     25.15   493098\n",
       "5   Total Length of Bwd Packets     25.00    64698\n",
       "10        Bwd Packet Length Max     25.00     4838\n",
       "12       Bwd Packet Length Mean     25.00   147614\n",
       "54         Avg Bwd Segment Size     25.00   147611\n",
       "65            Subflow Bwd Bytes     25.00    64738\n",
       "19                 Flow IAT Min     22.14   136316\n",
       "55          Fwd Header Length.1     19.38     3771\n",
       "34            Fwd Header Length     19.38     3771\n",
       "39            Max Packet Length     18.20     5708\n",
       "35            Bwd Header Length     16.14     3945\n",
       "37                Bwd Packets/s     16.06  1107886\n",
       "53         Avg Fwd Segment Size     15.87    99716\n",
       "8        Fwd Packet Length Mean     15.87    99716\n",
       "6         Fwd Packet Length Max     15.87     5279\n",
       "4   Total Length of Fwd Packets     15.87    17928\n",
       "63            Subflow Fwd Bytes     15.87    17928\n",
       "52          Average Packet Size     12.62   212207\n",
       "40           Packet Length Mean     12.62   215826\n",
       "14                 Flow Bytes/s     12.57  1601041\n",
       "18                 Flow IAT Max      3.41   580289\n",
       "1                 Flow Duration      3.19  1050899\n",
       "16                Flow IAT Mean      3.16  1166311\n",
       "15               Flow Packets/s      2.44  1243233\n",
       "36                Fwd Packets/s      2.36  1220423\n",
       "\n",
       "[79 rows x 3 columns]"
      ]
     },
     "execution_count": 12,
     "metadata": {},
     "output_type": "execute_result"
    }
   ],
   "source": [
    "pd.options.display.float_format = '{:,.2f}'.format\n",
    "sk_df = pd.DataFrame([{'column': c, 'unique': df_copy[c].nunique(), 'skewness': df_copy[c].value_counts(normalize=True).values[0] * 100} for c in df_copy.columns])\n",
    "sk_df = sk_df.sort_values('skewness', ascending=False)\n",
    "sk_df"
   ]
  },
  {
   "cell_type": "markdown",
   "metadata": {},
   "source": [
    "### Outlier Detection\n",
    "\n",
    "Testing to see if any of the skewed features was of an attack label because this could be an indication for features of uncommon vulnerablities. This is important because the labels are imbalnced so skewed features could be because it is related to minority label. "
   ]
  },
  {
   "cell_type": "code",
   "execution_count": 13,
   "metadata": {},
   "outputs": [
    {
     "data": {
      "text/plain": [
       "Destination Port               0\n",
       "Flow Duration                  0\n",
       "Total Fwd Packets              0\n",
       "Total Backward Packets         0\n",
       "Total Length of Fwd Packets    0\n",
       "dtype: int64"
      ]
     },
     "execution_count": 13,
     "metadata": {},
     "output_type": "execute_result"
    }
   ],
   "source": [
    "df_copy[(df_copy['CWE Flag Count'] == 0) & (df_copy['Label'] == 1)].count().head()\n",
    "# benign: 2272782 = 99% of this label\n",
    "# FTP-Patator & SSH-Patator: 13835 = 100% of this label\n",
    "# DoS: 252672 = 100% of this label\n",
    "# web: 2180 = 100% of this label\n",
    "# infiltration: 36 = 100% of this label\n",
    "# bot: 1966 = 100% of this label\n",
    "# port_scan: 158930 = 100% of this label\n",
    "# DDoS: 128027 = 100% of this label\n",
    "\n",
    "df_copy[(df_copy['CWE Flag Count'] == 1) & (df_copy['Label'] == 7)].count().head()\n",
    "# benign: 315 = .01% of this label\n",
    "# FTP-Patator & SSH-Patator: 0\n",
    "# DoS: 0\n",
    "# web: 0 \n",
    "# infiltration: 0\n",
    "# bot: 0\n",
    "# port_scan: 0\n",
    "# DDoS: 0\n",
    "\n",
    "# this feature is not a strong indicator of any particular label "
   ]
  },
  {
   "cell_type": "code",
   "execution_count": 14,
   "metadata": {},
   "outputs": [
    {
     "data": {
      "text/plain": [
       "Destination Port               707\n",
       "Flow Duration                  707\n",
       "Total Fwd Packets              707\n",
       "Total Backward Packets         707\n",
       "Total Length of Fwd Packets    707\n",
       "dtype: int64"
      ]
     },
     "execution_count": 14,
     "metadata": {},
     "output_type": "execute_result"
    }
   ],
   "source": [
    "df_copy[(df_copy['URG Flag Count'] == 1) & (df_copy['Label'] == 5)].count().head()\n",
    "# benign: 263592\n",
    "# FTP-Patator & SSH-Patator: 2901\n",
    "# DoS: 1054\n",
    "# web: 158 \n",
    "# infiltration: 1\n",
    "# bot: 707\n",
    "# port_scan: 4\n",
    "# DDoS: 3"
   ]
  },
  {
   "cell_type": "code",
   "execution_count": 15,
   "metadata": {},
   "outputs": [
    {
     "data": {
      "text/plain": [
       "Destination Port               315\n",
       "Flow Duration                  315\n",
       "Total Fwd Packets              315\n",
       "Total Backward Packets         315\n",
       "Total Length of Fwd Packets    315\n",
       "dtype: int64"
      ]
     },
     "execution_count": 15,
     "metadata": {},
     "output_type": "execute_result"
    }
   ],
   "source": [
    "df_copy[(df_copy['Fwd URG Flags'] == 1) & (df_copy['Label'] == 0)].count().head()\n",
    "# benign: 315\n",
    "# FTP-Patator & SSH-Patator: 0\n",
    "# DoS: 0\n",
    "# web: 0 \n",
    "# infiltration: 0\n",
    "# bot: 0\n",
    "# port_scan: 0\n",
    "# DDoS: 0\n",
    "\n",
    "# this feature is not a strong indicator of any particular label "
   ]
  },
  {
   "cell_type": "code",
   "execution_count": 16,
   "metadata": {},
   "outputs": [
    {
     "data": {
      "text/plain": [
       "Destination Port               0\n",
       "Flow Duration                  0\n",
       "Total Fwd Packets              0\n",
       "Total Backward Packets         0\n",
       "Total Length of Fwd Packets    0\n",
       "dtype: int64"
      ]
     },
     "execution_count": 16,
     "metadata": {},
     "output_type": "execute_result"
    }
   ],
   "source": [
    "df_copy[(df_copy['RST Flag Count'] == 1) & (df_copy['Label'] == 7)].count().head()\n",
    "# benign: 686\n",
    "# FTP-Patator & SSH-Patator: 0\n",
    "# DoS: 0\n",
    "# web: 0 \n",
    "# infiltration: 0\n",
    "# bot: 0\n",
    "# port_scan: 0\n",
    "# DDoS: 0\n",
    "\n",
    "# this feature is not a strong indicator of any particular label "
   ]
  },
  {
   "cell_type": "code",
   "execution_count": 17,
   "metadata": {},
   "outputs": [
    {
     "data": {
      "text/plain": [
       "Destination Port               0\n",
       "Flow Duration                  0\n",
       "Total Fwd Packets              0\n",
       "Total Backward Packets         0\n",
       "Total Length of Fwd Packets    0\n",
       "dtype: int64"
      ]
     },
     "execution_count": 17,
     "metadata": {},
     "output_type": "execute_result"
    }
   ],
   "source": [
    "df_copy[(df_copy['ECE Flag Count'] == 1) & (df_copy['Label'] == 7)].count().head()\n",
    "# benign: 686\n",
    "# FTP-Patator & SSH-Patator: 0\n",
    "# DoS: 0\n",
    "# web: 0 \n",
    "# infiltration: 0\n",
    "# bot: 0\n",
    "# port_scan: 0\n",
    "# DDoS: 0"
   ]
  },
  {
   "cell_type": "markdown",
   "metadata": {},
   "source": [
    "Removing Skewed Columns 99.9% or greater"
   ]
  },
  {
   "cell_type": "code",
   "execution_count": 18,
   "metadata": {},
   "outputs": [
    {
     "name": "stdout",
     "output_type": "stream",
     "text": [
      "['Bwd Avg Packets/Bulk', 'Bwd Avg Bulk Rate', 'Fwd Avg Bytes/Bulk', 'Fwd Avg Packets/Bulk', 'Fwd Avg Bulk Rate', 'Bwd URG Flags', 'Bwd PSH Flags', 'Bwd Avg Bytes/Bulk', 'CWE Flag Count', 'Fwd URG Flags', 'RST Flag Count', 'ECE Flag Count']\n"
     ]
    }
   ],
   "source": [
    "remove_features.extend(sk_df[sk_df.skewness > 99].column.tolist())\n",
    "print(remove_features)\n",
    "\n",
    "df_copy.drop(remove_features, axis=1, inplace=True)"
   ]
  },
  {
   "cell_type": "code",
   "execution_count": 19,
   "metadata": {},
   "outputs": [
    {
     "data": {
      "text/html": [
       "<div>\n",
       "<style scoped>\n",
       "    .dataframe tbody tr th:only-of-type {\n",
       "        vertical-align: middle;\n",
       "    }\n",
       "\n",
       "    .dataframe tbody tr th {\n",
       "        vertical-align: top;\n",
       "    }\n",
       "\n",
       "    .dataframe thead th {\n",
       "        text-align: right;\n",
       "    }\n",
       "</style>\n",
       "<table border=\"1\" class=\"dataframe\">\n",
       "  <thead>\n",
       "    <tr style=\"text-align: right;\">\n",
       "      <th></th>\n",
       "      <th>column</th>\n",
       "      <th>skewness</th>\n",
       "      <th>unique</th>\n",
       "    </tr>\n",
       "  </thead>\n",
       "  <tbody>\n",
       "    <tr>\n",
       "      <th>40</th>\n",
       "      <td>FIN Flag Count</td>\n",
       "      <td>96.46</td>\n",
       "      <td>2</td>\n",
       "    </tr>\n",
       "    <tr>\n",
       "      <th>41</th>\n",
       "      <td>SYN Flag Count</td>\n",
       "      <td>95.36</td>\n",
       "      <td>2</td>\n",
       "    </tr>\n",
       "    <tr>\n",
       "      <th>30</th>\n",
       "      <td>Fwd PSH Flags</td>\n",
       "      <td>95.36</td>\n",
       "      <td>2</td>\n",
       "    </tr>\n",
       "    <tr>\n",
       "      <th>59</th>\n",
       "      <td>Active Std</td>\n",
       "      <td>92.74</td>\n",
       "      <td>202826</td>\n",
       "    </tr>\n",
       "    <tr>\n",
       "      <th>63</th>\n",
       "      <td>Idle Std</td>\n",
       "      <td>91.90</td>\n",
       "      <td>197616</td>\n",
       "    </tr>\n",
       "    <tr>\n",
       "      <th>44</th>\n",
       "      <td>URG Flag Count</td>\n",
       "      <td>90.52</td>\n",
       "      <td>2</td>\n",
       "    </tr>\n",
       "    <tr>\n",
       "      <th>66</th>\n",
       "      <td>Label</td>\n",
       "      <td>80.30</td>\n",
       "      <td>8</td>\n",
       "    </tr>\n",
       "    <tr>\n",
       "      <th>61</th>\n",
       "      <td>Active Min</td>\n",
       "      <td>80.26</td>\n",
       "      <td>175670</td>\n",
       "    </tr>\n",
       "    <tr>\n",
       "      <th>60</th>\n",
       "      <td>Active Max</td>\n",
       "      <td>80.26</td>\n",
       "      <td>299565</td>\n",
       "    </tr>\n",
       "    <tr>\n",
       "      <th>58</th>\n",
       "      <td>Active Mean</td>\n",
       "      <td>80.26</td>\n",
       "      <td>326325</td>\n",
       "    </tr>\n",
       "  </tbody>\n",
       "</table>\n",
       "</div>"
      ],
      "text/plain": [
       "            column  skewness  unique\n",
       "40  FIN Flag Count     96.46       2\n",
       "41  SYN Flag Count     95.36       2\n",
       "30   Fwd PSH Flags     95.36       2\n",
       "59      Active Std     92.74  202826\n",
       "63        Idle Std     91.90  197616\n",
       "44  URG Flag Count     90.52       2\n",
       "66           Label     80.30       8\n",
       "61      Active Min     80.26  175670\n",
       "60      Active Max     80.26  299565\n",
       "58     Active Mean     80.26  326325"
      ]
     },
     "execution_count": 19,
     "metadata": {},
     "output_type": "execute_result"
    }
   ],
   "source": [
    "sk_df = pd.DataFrame([{'column': c, 'unique': df_copy[c].nunique(), 'skewness': df_copy[c].value_counts(normalize=True).values[0] * 100} for c in df_copy.columns])\n",
    "sk_df = sk_df.sort_values('skewness', ascending=False)\n",
    "sk_df.head(10)"
   ]
  },
  {
   "cell_type": "markdown",
   "metadata": {},
   "source": [
    "Further investigation of features with only two unique values, but\n",
    "less than 99% skewed. These features will not be removed. Investigation\n",
    "is to understand what features are related to which types of attacks"
   ]
  },
  {
   "cell_type": "code",
   "execution_count": 20,
   "metadata": {},
   "outputs": [
    {
     "data": {
      "text/plain": [
       "Destination Port               27\n",
       "Flow Duration                  27\n",
       "Total Fwd Packets              27\n",
       "Total Backward Packets         27\n",
       "Total Length of Fwd Packets    27\n",
       "dtype: int64"
      ]
     },
     "execution_count": 20,
     "metadata": {},
     "output_type": "execute_result"
    }
   ],
   "source": [
    "df_copy[(df_copy['FIN Flag Count'] == 1) & (df_copy['Label'] == 7)].count().head()\n",
    "# benign: 41188 = 1.8% of this label\n",
    "# FTP-Patator & SSH-Patator: 0\n",
    "# DoS: 58936 = 23% of this label \n",
    "# web: 0 \n",
    "# infiltration: 0\n",
    "# bot: 0\n",
    "# port_scan: 0\n",
    "# DDoS: 27 = .02%\n",
    "\n",
    "# when FIN Flag Count = 1, labels are benign, DoS, and DDoS, with majority\n",
    "# being DoS"
   ]
  },
  {
   "cell_type": "code",
   "execution_count": 21,
   "metadata": {},
   "outputs": [
    {
     "data": {
      "text/plain": [
       "Destination Port               0\n",
       "Flow Duration                  0\n",
       "Total Fwd Packets              0\n",
       "Total Backward Packets         0\n",
       "Total Length of Fwd Packets    0\n",
       "dtype: int64"
      ]
     },
     "execution_count": 21,
     "metadata": {},
     "output_type": "execute_result"
    }
   ],
   "source": [
    "df_copy[(df_copy['SYN Flag Count'] == 1) & (df_copy['Label'] == 7)].count().head()\n",
    "# benign: 124762 = 5.5% of this label \n",
    "# FTP-Patator & SSH-Patator: 3961 = 29% of this label\n",
    "# DoS: 2735 = 1% of this label\n",
    "# web: 0 \n",
    "# infiltration: 20 = 55% of this label \n",
    "# bot: 0\n",
    "# port_scan: 0\n",
    "# DDoS: 0"
   ]
  },
  {
   "cell_type": "code",
   "execution_count": 22,
   "metadata": {},
   "outputs": [
    {
     "data": {
      "text/plain": [
       "Destination Port               124762\n",
       "Flow Duration                  124762\n",
       "Total Fwd Packets              124762\n",
       "Total Backward Packets         124762\n",
       "Total Length of Fwd Packets    124762\n",
       "dtype: int64"
      ]
     },
     "execution_count": 22,
     "metadata": {},
     "output_type": "execute_result"
    }
   ],
   "source": [
    "df_copy[(df_copy['Fwd PSH Flags'] == 1) & (df_copy['Label'] == 0)].count().head()\n",
    "# benign: 124762\n",
    "# FTP-Patator & SSH-Patator: 3961\n",
    "# DoS: 2735\n",
    "# web: 0 \n",
    "# infiltration: 20\n",
    "# bot: 0\n",
    "# port_scan: 0\n",
    "# DDoS: 0\n",
    "\n",
    "# Fwd PSH Flags and SYN Flag Count could be related and combined into \n",
    "# one feature? "
   ]
  },
  {
   "cell_type": "markdown",
   "metadata": {},
   "source": [
    "### Coeffients"
   ]
  },
  {
   "cell_type": "code",
   "execution_count": 23,
   "metadata": {},
   "outputs": [
    {
     "data": {
      "text/plain": [
       "Subflow Fwd Packets           -0.00\n",
       "Subflow Bwd Packets           -0.00\n",
       "Total Backward Packets        -0.00\n",
       "act_data_pkt_fwd              -0.00\n",
       "Total Length of Bwd Packets   -0.00\n",
       "Subflow Bwd Bytes             -0.00\n",
       "Fwd Header Length              0.00\n",
       "Fwd Header Length.1            0.00\n",
       "Bwd Header Length              0.00\n",
       "min_seg_size_forward           0.00\n",
       "Active Mean                    0.01\n",
       "Bwd IAT Std                    0.01\n",
       "Down/Up Ratio                  0.02\n",
       "Active Min                     0.03\n",
       "ACK Flag Count                 0.03\n",
       "Fwd IAT Mean                   0.03\n",
       "FIN Flag Count                 0.03\n",
       "Flow Duration                  0.04\n",
       "Fwd IAT Total                  0.05\n",
       "Name: Label, dtype: float64"
      ]
     },
     "execution_count": 23,
     "metadata": {},
     "output_type": "execute_result"
    }
   ],
   "source": [
    "coef = df_copy.corr().sort_values(by = 'Label')\n",
    "coef.Label.iloc[26:45]"
   ]
  },
  {
   "cell_type": "code",
   "execution_count": 24,
   "metadata": {},
   "outputs": [],
   "source": [
    "# removing features with coeffient equal to -0.00 or 0.00\n",
    "remove_features = []\n",
    "remove_features = ['Total Fwd Packets', 'Subflow Fwd Packets', 'Subflow Bwd Packets',\n",
    "                  'Total Backward Packets', 'act_data_pkt_fwd', 'Total Length of Bwd Packets', \n",
    "                  'Subflow Bwd Bytes', 'Subflow Bwd Bytes', 'Fwd Header Length', \n",
    "                  'Fwd Header Length.1', 'Bwd Header Length', 'min_seg_size_forward']\n",
    "df_copy.drop(remove_features, axis=1, inplace=True)"
   ]
  },
  {
   "cell_type": "markdown",
   "metadata": {},
   "source": [
    "### Coliniarity"
   ]
  },
  {
   "cell_type": "code",
   "execution_count": 25,
   "metadata": {},
   "outputs": [
    {
     "data": {
      "image/png": "[encoded data removed]",
      "text/plain": [
       "<Figure size 1080x1080 with 2 Axes>"
      ]
     },
     "metadata": {
      "needs_background": "light"
     },
     "output_type": "display_data"
    }
   ],
   "source": [
    "coef = df_copy.corr()\n",
    "high_corr = (coef >= 0.99).astype('uint8')\n",
    "plt.figure(figsize=(15,15))\n",
    "sns.heatmap(high_corr, cmap='YlGnBu', annot=True, center=0.0)\n",
    "plt.show()"
   ]
  },
  {
   "cell_type": "code",
   "execution_count": 26,
   "metadata": {},
   "outputs": [],
   "source": [
    "remove_features = []"
   ]
  },
  {
   "cell_type": "code",
   "execution_count": 27,
   "metadata": {},
   "outputs": [
    {
     "name": "stdout",
     "output_type": "stream",
     "text": [
      "Fwd IAT Total 493098\n",
      "Flow Duration 1050899\n"
     ]
    }
   ],
   "source": [
    "print('Fwd IAT Total', df_copy['Fwd IAT Total'].nunique())\n",
    "print('Flow Duration', df_copy['Flow Duration'].nunique())\n",
    "\n",
    "# Fwd IAT Total 493098\n",
    "# Flow Duration 1050899\n",
    "\n",
    "remove_features.append('Fwd IAT Total')"
   ]
  },
  {
   "cell_type": "code",
   "execution_count": 28,
   "metadata": {},
   "outputs": [
    {
     "name": "stdout",
     "output_type": "stream",
     "text": [
      "Subflow Fwd Bytes 17928\n",
      "Total Length of Fwd Packets 17928\n"
     ]
    }
   ],
   "source": [
    "print('Subflow Fwd Bytes', df_copy['Subflow Fwd Bytes'].nunique())\n",
    "print('Total Length of Fwd Packets', df_copy['Total Length of Fwd Packets'].nunique())\n",
    "\n",
    "# Subflow Fwd Bytes 17928\n",
    "# Total Length of Fwd Packets 17928\n",
    "\n",
    "remove_features.append('Total Length of Fwd Packets')"
   ]
  },
  {
   "cell_type": "code",
   "execution_count": 29,
   "metadata": {},
   "outputs": [
    {
     "name": "stdout",
     "output_type": "stream",
     "text": [
      "Avg Fwd Segment Size 99716\n",
      "Fwd Packet Length Mean 99716\n"
     ]
    }
   ],
   "source": [
    "print('Avg Fwd Segment Size', df_copy['Avg Fwd Segment Size'].nunique())\n",
    "print('Fwd Packet Length Mean', df_copy['Fwd Packet Length Mean'].nunique())\n",
    "\n",
    "# Avg Fwd Segment Size 99716\n",
    "# Fwd Packet Length Mean 99716\n",
    "\n",
    "remove_features.append('Avg Fwd Segment Size')"
   ]
  },
  {
   "cell_type": "code",
   "execution_count": 30,
   "metadata": {},
   "outputs": [
    {
     "name": "stdout",
     "output_type": "stream",
     "text": [
      "Avg Bwd Segment Size 147611\n",
      "Bwd Packet Length Mean 147614\n"
     ]
    }
   ],
   "source": [
    "print('Avg Bwd Segment Size', df_copy['Avg Bwd Segment Size'].nunique())\n",
    "print('Bwd Packet Length Mean', df_copy['Bwd Packet Length Mean'].nunique())\n",
    "\n",
    "# Avg Bwd Segment Size 147611\n",
    "# Bwd Packet Length Mean 147614\n",
    "\n",
    "remove_features.append('Avg Bwd Segment Size')"
   ]
  },
  {
   "cell_type": "code",
   "execution_count": 31,
   "metadata": {},
   "outputs": [
    {
     "name": "stdout",
     "output_type": "stream",
     "text": [
      "SYN Flag Count 2\n",
      "Fwd PSH Flags 2\n"
     ]
    }
   ],
   "source": [
    "print('SYN Flag Count', df_copy['SYN Flag Count'].nunique())\n",
    "print('Fwd PSH Flags', df_copy['Fwd PSH Flags'].nunique())\n",
    "\n",
    "# SYN Flag Count 2\n",
    "# Fwd PSH Flags 2\n",
    "\n",
    "# remove_features.append('SYN Flag Count')\n",
    "\n",
    "# create a new feature here by combining these two "
   ]
  },
  {
   "cell_type": "markdown",
   "metadata": {},
   "source": [
    "Both the SYN and FIN control flags are not normally set in the same TCP segment header. The SYN flag synchronizes sequence numbers to initiate a TCP connection. The FIN flag indicates the end of data transmission to finish a TCP connection. Their purposes are mutually exclusive. A TCP header with the SYN and FIN flags set is anomalous TCP behavior, causing various responses from the recipient, depending on the OS. An attacker can send a segment with both flags set to see what kind of system reply is returned and thereby determine what kind of OS is on the receiving end. The attacker can then use any known system vulnerabilities for further attacks."
   ]
  },
  {
   "cell_type": "code",
   "execution_count": 32,
   "metadata": {},
   "outputs": [
    {
     "name": "stdout",
     "output_type": "stream",
     "text": [
      "Average Packet Size 212207\n",
      "Packet Length Mean 215826\n"
     ]
    }
   ],
   "source": [
    "print('Average Packet Size', df_copy['Average Packet Size'].nunique())\n",
    "print('Packet Length Mean', df_copy['Packet Length Mean'].nunique())\n",
    "\n",
    "# Average Packet Size 212207\n",
    "# Packet Length Mean 215826\n",
    "\n",
    "remove_features.append('Average Packet Size')"
   ]
  },
  {
   "cell_type": "code",
   "execution_count": 33,
   "metadata": {},
   "outputs": [
    {
     "name": "stdout",
     "output_type": "stream",
     "text": [
      "Flow IAT Max 580289\n",
      "Fwd IAT Max 437316\n"
     ]
    }
   ],
   "source": [
    "print('Flow IAT Max', df_copy['Flow IAT Max'].nunique())\n",
    "print('Fwd IAT Max', df_copy['Fwd IAT Max'].nunique())\n",
    "\n",
    "# Flow IAT Max 580289\n",
    "# Fwd IAT Max 437316\n",
    "\n",
    "remove_features.append('Fwd IAT Max')"
   ]
  },
  {
   "cell_type": "code",
   "execution_count": 34,
   "metadata": {},
   "outputs": [
    {
     "name": "stdout",
     "output_type": "stream",
     "text": [
      "Idle Mean 222016\n",
      "Idle Max 149737\n",
      "Idle Min 223888\n"
     ]
    }
   ],
   "source": [
    "print('Idle Mean', df_copy['Idle Mean'].nunique())\n",
    "print('Idle Max', df_copy['Idle Max'].nunique())\n",
    "print('Idle Min', df_copy['Idle Min'].nunique())\n",
    "\n",
    "# Idle Mean 222016\n",
    "# Idle Max 149737\n",
    "# Idle Min 223888\n",
    "\n",
    "remove_features.append('Idle Mean')"
   ]
  },
  {
   "cell_type": "code",
   "execution_count": 35,
   "metadata": {},
   "outputs": [],
   "source": [
    "df_copy.drop(remove_features, axis=1, inplace=True)"
   ]
  },
  {
   "cell_type": "code",
   "execution_count": 36,
   "metadata": {},
   "outputs": [
    {
     "data": {
      "image/png": "[encoded data removed]",
      "text/plain": [
       "<Figure size 1080x1080 with 2 Axes>"
      ]
     },
     "metadata": {
      "needs_background": "light"
     },
     "output_type": "display_data"
    }
   ],
   "source": [
    "coef = df_copy.corr()\n",
    "high_corr = (coef >= 0.99).astype('uint8')\n",
    "plt.figure(figsize=(15,15))\n",
    "sns.heatmap(high_corr, cmap='YlGnBu', annot=True, center=0.0)\n",
    "plt.show()"
   ]
  },
  {
   "cell_type": "code",
   "execution_count": null,
   "metadata": {},
   "outputs": [],
   "source": [
    "df_copy.to_csv('alldata.csv')"
   ]
  }
 ],
 "metadata": {
  "kernelspec": {
   "display_name": "Python 3",
   "language": "python",
   "name": "python3"
  },
  "language_info": {
   "codemirror_mode": {
    "name": "ipython",
    "version": 3
   },
   "file_extension": ".py",
   "mimetype": "text/x-python",
   "name": "python",
   "nbconvert_exporter": "python",
   "pygments_lexer": "ipython3",
   "version": "3.6.4"
  }
 },
 "nbformat": 4,
 "nbformat_minor": 2
}
